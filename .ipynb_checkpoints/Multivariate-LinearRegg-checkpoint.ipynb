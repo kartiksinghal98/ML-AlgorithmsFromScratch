{
 "cells": [
  {
   "cell_type": "code",
   "execution_count": 1,
   "metadata": {},
   "outputs": [],
   "source": [
    "#import libraries\n",
    "import numpy as np\n",
    "import pandas as pd\n",
    "from sklearn.datasets import load_boston\n",
    "import matplotlib.pyplot as plt\n",
    "from sklearn.model_selection import train_test_split"
   ]
  },
  {
   "cell_type": "code",
   "execution_count": 2,
   "metadata": {},
   "outputs": [],
   "source": [
    "#load boston data from sklearn\n",
    "boston=load_boston()\n",
    "X=boston.data\n",
    "Y=boston.target\n",
    "X=(X-X.mean())/X.std()"
   ]
  },
  {
   "cell_type": "code",
   "execution_count": 3,
   "metadata": {},
   "outputs": [],
   "source": [
    "X_train,X_test,Y_train,Y_test=train_test_split(X,Y,test_size=0.2)"
   ]
  },
  {
   "cell_type": "markdown",
   "metadata": {},
   "source": [
    "# Algorithm\n"
   ]
  },
  {
   "cell_type": "code",
   "execution_count": 4,
   "metadata": {},
   "outputs": [],
   "source": [
    "def hypothesis(x,theta):\n",
    "    y=theta[0]\n",
    "    for i in range(len(x)):\n",
    "        y=y+theta[i+1]*x[i]\n",
    "    return y\n",
    "def error(X,Y,theta):\n",
    "    e=0\n",
    "    for i in range(X.shape[0]):\n",
    "        hyp=hypothesis(X[i,:],theta)\n",
    "        e+=(hyp-Y[i])**2\n",
    "    return e/2"
   ]
  },
  {
   "cell_type": "markdown",
   "metadata": {
    "collapsed": true
   },
   "source": [
    "## Gradient Decent"
   ]
  },
  {
   "cell_type": "code",
   "execution_count": 5,
   "metadata": {},
   "outputs": [],
   "source": [
    "def gradient(X,Y,theta):\n",
    "    grad=np.zeros(len(X[1,:])+1)\n",
    "    for i in range(X.shape[0]):\n",
    "        hyp=hypothesis(X[i,:],theta)\n",
    "        grad[0]+=hyp-Y[i]\n",
    "        for j in range(1,len(grad)):\n",
    "            grad[j]+=(hyp-Y[i])*X[i,j-1]\n",
    "    return grad\n",
    "        \n",
    "def GradientDecent(X,Y,learning_rate=0.0001):\n",
    "    theta=np.zeros(len(X[1,:])+1)\n",
    "    e=[]\n",
    "    for i in range(1000):\n",
    "        e.append(error(X,Y,theta))\n",
    "        grad=gradient(X,Y,theta)\n",
    "        for j in range(len(theta)):\n",
    "            theta[j]=theta[j]-learning_rate*grad[j]\n",
    "    return theta,e"
   ]
  },
  {
   "cell_type": "markdown",
   "metadata": {},
   "source": [
    "## Mini-Batch Gradient Decent"
   ]
  },
  {
   "cell_type": "code",
   "execution_count": 6,
   "metadata": {},
   "outputs": [],
   "source": [
    "def BatchGradient(X,Y,theta,BatchSize=1):\n",
    "    grad=np.zeros(len(X[1,:])+1)\n",
    "    a=Y.shape[0]\n",
    "    idx=np.arange(a)\n",
    "    np.random.shuffle(idx)\n",
    "    idx=idx[:BatchSize]\n",
    "    for i in idx:\n",
    "        hyp=hypothesis(X[i,:],theta)\n",
    "        grad[0]+=hyp-Y[i]\n",
    "        \n",
    "        for j in range(1,len(grad)):\n",
    "            grad[j]+=(hyp-Y[i])*X[i,j-1]\n",
    "    return grad\n",
    "\n",
    "def BatchGD(X,Y,learning_rate=0.01):\n",
    "    theta=np.zeros(len(X[1,:])+1)\n",
    "    e=[]\n",
    "    for i in range(300):\n",
    "        e.append(error(X,Y,theta))\n",
    "        grad=BatchGradient(X,Y,theta)\n",
    "        for j in range(len(theta)):\n",
    "            theta[j]=theta[j]-learning_rate*grad[j]\n",
    "    return theta,e"
   ]
  },
  {
   "cell_type": "code",
   "execution_count": 7,
   "metadata": {},
   "outputs": [],
   "source": [
    "theta1,error1=GradientDecent(X_train,Y_train)"
   ]
  },
  {
   "cell_type": "code",
   "execution_count": 8,
   "metadata": {},
   "outputs": [
    {
     "data": {
      "image/png": "[encoded data removed]",
      "text/plain": [
       "<Figure size 432x288 with 1 Axes>"
      ]
     },
     "metadata": {
      "needs_background": "light"
     },
     "output_type": "display_data"
    }
   ],
   "source": [
    "plt.plot(error1)\n",
    "plt.show()"
   ]
  },
  {
   "cell_type": "code",
   "execution_count": 9,
   "metadata": {},
   "outputs": [],
   "source": [
    "theta2,error2=BatchGD(X_train,Y_train)"
   ]
  },
  {
   "cell_type": "code",
   "execution_count": 10,
   "metadata": {},
   "outputs": [
    {
     "data": {
      "image/png": "[encoded data removed]",
      "text/plain": [
       "<Figure size 432x288 with 1 Axes>"
      ]
     },
     "metadata": {
      "needs_background": "light"
     },
     "output_type": "display_data"
    }
   ],
   "source": [
    "plt.plot(error2)\n",
    "plt.show()"
   ]
  },
  {
   "cell_type": "code",
   "execution_count": 11,
   "metadata": {},
   "outputs": [],
   "source": [
    "Y_predictedGD=np.zeros(X_test.shape[0])\n",
    "for i in range(X_test.shape[0]):\n",
    "    Y_predictedGD[i]=hypothesis(X_test[i,:],theta1)"
   ]
  },
  {
   "cell_type": "code",
   "execution_count": 12,
   "metadata": {},
   "outputs": [],
   "source": [
    "Y_predictedMiniGD=np.zeros(X_test.shape[0])\n",
    "for i in range(X_test.shape[0]):\n",
    "    Y_predictedMiniGD[i]=hypothesis(X_test[i,:],theta2)\n",
    "    "
   ]
  },
  {
   "cell_type": "markdown",
   "metadata": {},
   "source": [
    "# Coefficient of determination"
   ]
  },
  {
   "cell_type": "code",
   "execution_count": 13,
   "metadata": {},
   "outputs": [],
   "source": [
    "def cod(X,Y,theta):\n",
    "    Y_pred=[]\n",
    "    for i in range(X.shape[0]):\n",
    "        Y_pred.append(hypothesis(X[i],theta))\n",
    "    num=0\n",
    "    deno=0\n",
    "    mean1=Y.mean()\n",
    "    for i in range(X.shape[0]):\n",
    "        num+=(Y[i]-Y_pred[i])**2\n",
    "        deno+=(Y[i]-mean1)**2\n",
    "    return 1-(num/deno)"
   ]
  },
  {
   "cell_type": "code",
   "execution_count": 14,
   "metadata": {},
   "outputs": [
    {
     "name": "stdout",
     "output_type": "stream",
     "text": [
      "0.4485358982011277\n"
     ]
    }
   ],
   "source": [
    "#For Gradient decent\n",
    "r1=cod(X_test,Y_test,theta1)\n",
    "print(r1)"
   ]
  },
  {
   "cell_type": "code",
   "execution_count": 15,
   "metadata": {},
   "outputs": [
    {
     "name": "stdout",
     "output_type": "stream",
     "text": [
      "0.1954804667581761\n"
     ]
    }
   ],
   "source": [
    "#For mini batch gradient decent\n",
    "r2=cod(X_test,Y_test,theta2)\n",
    "print(r2)"
   ]
  }
 ],
 "metadata": {
  "kernelspec": {
   "display_name": "Python 3",
   "language": "python",
   "name": "python3"
  },
  "language_info": {
   "codemirror_mode": {
    "name": "ipython",
    "version": 3
   },
   "file_extension": ".py",
   "mimetype": "text/x-python",
   "name": "python",
   "nbconvert_exporter": "python",
   "pygments_lexer": "ipython3",
   "version": "3.6.7"
  }
 },
 "nbformat": 4,
 "nbformat_minor": 2
}
