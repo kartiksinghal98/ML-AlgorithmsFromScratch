{
 "cells": [
  {
   "cell_type": "code",
   "execution_count": 1,
   "metadata": {},
   "outputs": [],
   "source": [
    "#import libraries\n",
    "import numpy as np\n",
    "import pandas as pd\n",
    "from sklearn.datasets import load_boston\n",
    "import matplotlib.pyplot as plt\n",
    "from sklearn.model_selection import train_test_split"
   ]
  },
  {
   "cell_type": "code",
   "execution_count": 2,
   "metadata": {},
   "outputs": [],
   "source": [
    "#load boston data from sklearn\n",
    "boston=load_boston()\n",
    "X=boston.data\n",
    "Y=boston.target\n",
    "X=(X-X.mean())/X.std()"
   ]
  },
  {
   "cell_type": "code",
   "execution_count": 14,
   "metadata": {},
   "outputs": [
    {
     "data": {
      "text/plain": [
       "(506, 13)"
      ]
     },
     "execution_count": 14,
     "metadata": {},
     "output_type": "execute_result"
    }
   ],
   "source": [
    "X.shape"
   ]
  },
  {
   "cell_type": "code",
   "execution_count": 3,
   "metadata": {},
   "outputs": [],
   "source": [
    "X_train,X_test,Y_train,Y_test=train_test_split(X,Y,test_size=0.2)"
   ]
  },
  {
   "cell_type": "code",
   "execution_count": 20,
   "metadata": {},
   "outputs": [
    {
     "data": {
      "text/plain": [
       "(102,)"
      ]
     },
     "execution_count": 20,
     "metadata": {},
     "output_type": "execute_result"
    }
   ],
   "source": [
    "Y_test.shape"
   ]
  },
  {
   "cell_type": "markdown",
   "metadata": {},
   "source": [
    "# Algorithm\n"
   ]
  },
  {
   "cell_type": "code",
   "execution_count": 4,
   "metadata": {},
   "outputs": [],
   "source": [
    "def hypothesis(x,theta):\n",
    "    y=theta[0]\n",
    "    for i in range(len(x)):\n",
    "        y=y+theta[i+1]*x[i]\n",
    "    return y\n",
    "def error(X,Y,theta):\n",
    "    e=0\n",
    "    for i in range(X.shape[0]):\n",
    "        hyp=hypothesis(X[i,:],theta)\n",
    "        e+=(hyp-Y[i])**2\n",
    "    return e/2"
   ]
  },
  {
   "cell_type": "markdown",
   "metadata": {
    "collapsed": true
   },
   "source": [
    "## Gradient Decent"
   ]
  },
  {
   "cell_type": "code",
   "execution_count": 5,
   "metadata": {},
   "outputs": [],
   "source": [
    "def gradient(X,Y,theta):\n",
    "    grad=np.zeros(len(X[1,:])+1)\n",
    "    for i in range(X.shape[0]):\n",
    "        hyp=hypothesis(X[i,:],theta)\n",
    "        grad[0]+=hyp-Y[i]\n",
    "        for j in range(1,len(grad)):\n",
    "            grad[j]+=(hyp-Y[i])*X[i,j-1]\n",
    "    return grad\n",
    "        \n",
    "def GradientDecent(X,Y,learning_rate=0.0001):\n",
    "    theta=np.zeros(len(X[1,:])+1)\n",
    "    e=[]\n",
    "    for i in range(1000):\n",
    "        e.append(error(X,Y,theta))\n",
    "        grad=gradient(X,Y,theta)\n",
    "        for j in range(len(theta)):\n",
    "            theta[j]=theta[j]-learning_rate*grad[j]\n",
    "    return theta,e"
   ]
  },
  {
   "cell_type": "markdown",
   "metadata": {},
   "source": [
    "## Mini-Batch Gradient Decent"
   ]
  },
  {
   "cell_type": "code",
   "execution_count": 6,
   "metadata": {},
   "outputs": [],
   "source": [
    "def BatchGradient(X,Y,theta,BatchSize=1):\n",
    "    grad=np.zeros(len(X[1,:])+1)\n",
    "    a=Y.shape[0]\n",
    "    idx=np.arange(a)\n",
    "    np.random.shuffle(idx)\n",
    "    idx=idx[:BatchSize]\n",
    "    for i in idx:\n",
    "        hyp=hypothesis(X[i,:],theta)\n",
    "        grad[0]+=hyp-Y[i]\n",
    "        \n",
    "        for j in range(1,len(grad)):\n",
    "            grad[j]+=(hyp-Y[i])*X[i,j-1]\n",
    "    return grad\n",
    "\n",
    "def BatchGD(X,Y,learning_rate=0.01):\n",
    "    theta=np.zeros(len(X[1,:])+1)\n",
    "    e=[]\n",
    "    for i in range(300):\n",
    "        e.append(error(X,Y,theta))\n",
    "        grad=BatchGradient(X,Y,theta)\n",
    "        for j in range(len(theta)):\n",
    "            theta[j]=theta[j]-learning_rate*grad[j]\n",
    "    return theta,e"
   ]
  },
  {
   "cell_type": "code",
   "execution_count": 7,
   "metadata": {},
   "outputs": [],
   "source": [
    "theta1,error1=GradientDecent(X_train,Y_train)"
   ]
  },
  {
   "cell_type": "code",
   "execution_count": 8,
   "metadata": {},
   "outputs": [
    {
     "data": {
      "image/png": "[encoded data removed]",
      "text/plain": [
       "<Figure size 432x288 with 1 Axes>"
      ]
     },
     "metadata": {
      "needs_background": "light"
     },
     "output_type": "display_data"
    }
   ],
   "source": [
    "plt.plot(error1)\n",
    "plt.show()"
   ]
  },
  {
   "cell_type": "code",
   "execution_count": 61,
   "metadata": {},
   "outputs": [],
   "source": [
    "theta2,error2=BatchGD(X_train,Y_train)"
   ]
  },
  {
   "cell_type": "code",
   "execution_count": 62,
   "metadata": {},
   "outputs": [
    {
     "data": {
      "image/png": "[encoded data removed]",
      "text/plain": [
       "<Figure size 432x288 with 1 Axes>"
      ]
     },
     "metadata": {
      "needs_background": "light"
     },
     "output_type": "display_data"
    }
   ],
   "source": [
    "plt.plot(error2)\n",
    "plt.show()"
   ]
  },
  {
   "cell_type": "code",
   "execution_count": 63,
   "metadata": {},
   "outputs": [],
   "source": [
    "Y_predictedGD=np.zeros(X_test.shape[0])\n",
    "for i in range(X_test.shape[0]):\n",
    "    Y_predictedGD[i]=hypothesis(X_test[i,:],theta1)"
   ]
  },
  {
   "cell_type": "code",
   "execution_count": 64,
   "metadata": {},
   "outputs": [],
   "source": [
    "Y_predictedMiniGD=np.zeros(X_test.shape[0])\n",
    "for i in range(X_test.shape[0]):\n",
    "    Y_predictedMiniGD[i]=hypothesis(X_test[i,:],theta2)\n",
    "    "
   ]
  },
  {
   "cell_type": "code",
   "execution_count": 65,
   "metadata": {},
   "outputs": [
    {
     "data": {
      "text/plain": [
       "array([  6.97431154,  -5.30590963,   4.52099231,  -4.91818322,\n",
       "        -3.25591475,  -3.35879235,  -2.0268352 ,  -4.19260814,\n",
       "        -3.552391  ,  -2.65720505,  -1.79174264,  -4.21418715,\n",
       "         2.37532578, -10.82984912])"
      ]
     },
     "execution_count": 65,
     "metadata": {},
     "output_type": "execute_result"
    }
   ],
   "source": [
    "theta1"
   ]
  },
  {
   "cell_type": "code",
   "execution_count": 66,
   "metadata": {},
   "outputs": [
    {
     "data": {
      "text/plain": [
       "array([ 3.87433479, -2.0645463 , -0.48148896, -1.96420479, -1.8596383 ,\n",
       "       -1.86126823, -1.61380337, -1.58227481, -1.72821131, -1.95213861,\n",
       "       -0.4075796 , -1.55888908,  6.70444455, -2.31871433])"
      ]
     },
     "execution_count": 66,
     "metadata": {},
     "output_type": "execute_result"
    }
   ],
   "source": [
    "theta2"
   ]
  },
  {
   "cell_type": "markdown",
   "metadata": {},
   "source": [
    "# Coefficient of determination"
   ]
  },
  {
   "cell_type": "code",
   "execution_count": 67,
   "metadata": {},
   "outputs": [],
   "source": [
    "def cod(X,Y,theta):\n",
    "    Y_pred=[]\n",
    "    for i in range(X.shape[0]):\n",
    "        Y_pred.append(hypothesis(X[i],theta))\n",
    "    num=0\n",
    "    deno=0\n",
    "    mean1=Y.mean()\n",
    "    for i in range(X.shape[0]):\n",
    "        num+=(Y[i]-Y_pred[i])**2\n",
    "        deno+=(Y[i]-mean1)**2\n",
    "    return 1-(num/deno)"
   ]
  },
  {
   "cell_type": "code",
   "execution_count": 68,
   "metadata": {},
   "outputs": [],
   "source": [
    "#For Gradient decent\n",
    "r1=cod(X_test,Y_test,theta1)"
   ]
  },
  {
   "cell_type": "code",
   "execution_count": 69,
   "metadata": {
    "scrolled": false
   },
   "outputs": [
    {
     "data": {
      "text/plain": [
       "0.4194390518138934"
      ]
     },
     "execution_count": 69,
     "metadata": {},
     "output_type": "execute_result"
    }
   ],
   "source": [
    "r1"
   ]
  },
  {
   "cell_type": "code",
   "execution_count": 70,
   "metadata": {},
   "outputs": [],
   "source": [
    "#For mini batch gradient decent\n",
    "r2=cod(X_test,Y_test,theta2)"
   ]
  },
  {
   "cell_type": "code",
   "execution_count": 71,
   "metadata": {},
   "outputs": [
    {
     "data": {
      "text/plain": [
       "0.021864627602233067"
      ]
     },
     "execution_count": 71,
     "metadata": {},
     "output_type": "execute_result"
    }
   ],
   "source": [
    "r2"
   ]
  },
  {
   "cell_type": "code",
   "execution_count": null,
   "metadata": {},
   "outputs": [],
   "source": []
  }
 ],
 "metadata": {
  "kernelspec": {
   "display_name": "Python 3",
   "language": "python",
   "name": "python3"
  },
  "language_info": {
   "codemirror_mode": {
    "name": "ipython",
    "version": 3
   },
   "file_extension": ".py",
   "mimetype": "text/x-python",
   "name": "python",
   "nbconvert_exporter": "python",
   "pygments_lexer": "ipython3",
   "version": "3.6.7"
  }
 },
 "nbformat": 4,
 "nbformat_minor": 2
}
