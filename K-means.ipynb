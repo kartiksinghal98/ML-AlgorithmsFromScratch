{
 "cells": [
  {
   "cell_type": "code",
   "execution_count": 2,
   "metadata": {},
   "outputs": [],
   "source": [
    "import numpy as np\n",
    "import pandas as pd\n",
    "import matplotlib.pyplot as plt\n",
    "from sklearn.datasets import make_blobs"
   ]
  },
  {
   "cell_type": "code",
   "execution_count": 89,
   "metadata": {},
   "outputs": [],
   "source": [
    "X,y=make_blobs(n_samples=500,centers=5,random_state=3)"
   ]
  },
  {
   "cell_type": "code",
   "execution_count": 90,
   "metadata": {},
   "outputs": [
    {
     "data": {
      "text/plain": [
       "<matplotlib.collections.PathCollection at 0x7f021b5c3898>"
      ]
     },
     "execution_count": 90,
     "metadata": {},
     "output_type": "execute_result"
    },
    {
     "data": {
      "image/png": "[encoded data removed]",
      "text/plain": [
       "<Figure size 432x288 with 1 Axes>"
      ]
     },
     "metadata": {
      "needs_background": "light"
     },
     "output_type": "display_data"
    }
   ],
   "source": [
    "plt.scatter(X[:,0],X[:,1])"
   ]
  },
  {
   "cell_type": "code",
   "execution_count": 140,
   "metadata": {},
   "outputs": [],
   "source": [
    "k=5\n",
    "color=[\"green\",\"blue\",\"red\",\"yellow\",\"orange\"]\n",
    "clusters={}\n",
    "for i in range(k):\n",
    "    center=10*(2*np.random.random((X.shape[1],))-1)\n",
    "    points=[]\n",
    "    cluster={\"center\":center,\"points\":points,\"color\":color[i]}\n",
    "    clusters[i]=cluster"
   ]
  },
  {
   "cell_type": "code",
   "execution_count": 141,
   "metadata": {},
   "outputs": [
    {
     "data": {
      "text/plain": [
       "{0: {'center': array([-1.2783557 , -2.93766172]),\n",
       "  'points': [],\n",
       "  'color': 'green'},\n",
       " 1: {'center': array([0.68211634, 7.1795316 ]), 'points': [], 'color': 'blue'},\n",
       " 2: {'center': array([7.24528981, 8.44986309]), 'points': [], 'color': 'red'},\n",
       " 3: {'center': array([ 8.96861996, -5.31115657]),\n",
       "  'points': [],\n",
       "  'color': 'yellow'},\n",
       " 4: {'center': array([-1.68115434, -3.72822797]),\n",
       "  'points': [],\n",
       "  'color': 'orange'}}"
      ]
     },
     "execution_count": 141,
     "metadata": {},
     "output_type": "execute_result"
    }
   ],
   "source": [
    "clusters"
   ]
  },
  {
   "cell_type": "markdown",
   "metadata": {},
   "source": [
    "## Algo"
   ]
  },
  {
   "cell_type": "code",
   "execution_count": 178,
   "metadata": {},
   "outputs": [],
   "source": [
    "def distance(v1,v2):\n",
    "    \n",
    "    return np.sqrt(np.sum((v1-v2)**2))\n",
    "def initial():\n",
    "    k=5\n",
    "    color=[\"green\",\"blue\",\"red\",\"yellow\",\"orange\"]\n",
    "    clusters={}\n",
    "    for i in range(k):\n",
    "        center=10*(2*np.random.random((X.shape[1],))-1)\n",
    "        points=[]\n",
    "        cluster={\"center\":center,\"points\":points,\"color\":color[i]}\n",
    "        clusters[i]=cluster\n",
    "        \n",
    "    return k,clusters\n",
    "\n",
    "def AssignPoint(X,clusters,k):\n",
    "    for i in range(X.shape[0]):\n",
    "        curr_point=X[i]\n",
    "        dist=[]\n",
    "        for kx in range(k):\n",
    "            cen=clusters[kx][\"center\"]\n",
    "            d=distance(curr_point,clusters[kx][\"center\"])\n",
    "            dist.append(d)\n",
    "        min_center=np.argmin(dist)\n",
    "        clusters[min_center][\"points\"].append(curr_point)\n",
    "\n",
    "def UpdateCenter(clusters,k):\n",
    "    for kx in range(k):\n",
    "        pts=np.array(clusters[kx][\"points\"])\n",
    "        if(pts.shape[0]>0):\n",
    "            new_cen=pts.mean(axis=0)\n",
    "            clusters[kx][\"center\"]=new_cen\n",
    "            clusters[kx][\"points\"]=[]\n",
    "\n",
    "        \n",
    "\n",
    "def plotclus(clusters,k):\n",
    "    for kx in range(k):\n",
    "        pnts=np.array(clusters[kx][\"points\"])\n",
    "        try:\n",
    "            plt.scatter(pnts[:,0],pnts[:,1],c=clusters[kx][\"color\"])\n",
    "        except:\n",
    "            pass\n",
    "        uk=clusters[kx][\"center\"]\n",
    "        plt.scatter(uk[0],uk[1],c=\"clusters[kx][\"color\"]\",marker='*')\n",
    "\n",
    "def Kmean(X,iterations=10):\n",
    "    k,clusters=initial()\n",
    "    for i in range(iterations):\n",
    "        AssignPoint(X,clusters,k)\n",
    "        UpdateCenter(clusters,k)\n",
    "    AssignPoint(X,clusters,k)\n",
    "    plotclus(clusters,k)\n",
    "    return clusters"
   ]
  },
  {
   "cell_type": "code",
   "execution_count": 180,
   "metadata": {},
   "outputs": [
    {
     "ename": "TypeError",
     "evalue": "'int' object is not subscriptable",
     "output_type": "error",
     "traceback": [
      "\u001b[0;31m---------------------------------------------------------------------------\u001b[0m",
      "\u001b[0;31mTypeError\u001b[0m                                 Traceback (most recent call last)",
      "\u001b[0;32m<ipython-input-180-ef9b51e067c3>\u001b[0m in \u001b[0;36m<module>\u001b[0;34m\u001b[0m\n\u001b[0;32m----> 1\u001b[0;31m \u001b[0mop\u001b[0m\u001b[0;34m=\u001b[0m\u001b[0mKmean\u001b[0m\u001b[0;34m(\u001b[0m\u001b[0mX\u001b[0m\u001b[0;34m,\u001b[0m\u001b[0;36m5\u001b[0m\u001b[0;34m)\u001b[0m\u001b[0;34m\u001b[0m\u001b[0;34m\u001b[0m\u001b[0m\n\u001b[0m",
      "\u001b[0;32m<ipython-input-178-620b036898dc>\u001b[0m in \u001b[0;36mKmean\u001b[0;34m(X, k, iterations)\u001b[0m\n\u001b[1;32m     48\u001b[0m     \u001b[0mclusters\u001b[0m\u001b[0;34m=\u001b[0m\u001b[0minit\u001b[0m\u001b[0;34m(\u001b[0m\u001b[0mk\u001b[0m\u001b[0;34m)\u001b[0m\u001b[0;34m\u001b[0m\u001b[0;34m\u001b[0m\u001b[0m\n\u001b[1;32m     49\u001b[0m     \u001b[0;32mfor\u001b[0m \u001b[0mi\u001b[0m \u001b[0;32min\u001b[0m \u001b[0mrange\u001b[0m\u001b[0;34m(\u001b[0m\u001b[0miterations\u001b[0m\u001b[0;34m)\u001b[0m\u001b[0;34m:\u001b[0m\u001b[0;34m\u001b[0m\u001b[0;34m\u001b[0m\u001b[0m\n\u001b[0;32m---> 50\u001b[0;31m         \u001b[0mAssignPoint\u001b[0m\u001b[0;34m(\u001b[0m\u001b[0mX\u001b[0m\u001b[0;34m,\u001b[0m\u001b[0mclusters\u001b[0m\u001b[0;34m,\u001b[0m\u001b[0mk\u001b[0m\u001b[0;34m)\u001b[0m\u001b[0;34m\u001b[0m\u001b[0;34m\u001b[0m\u001b[0m\n\u001b[0m\u001b[1;32m     51\u001b[0m         \u001b[0mUpdateCenter\u001b[0m\u001b[0;34m(\u001b[0m\u001b[0mclusters\u001b[0m\u001b[0;34m,\u001b[0m\u001b[0mk\u001b[0m\u001b[0;34m)\u001b[0m\u001b[0;34m\u001b[0m\u001b[0;34m\u001b[0m\u001b[0m\n\u001b[1;32m     52\u001b[0m     \u001b[0mAssignPoint\u001b[0m\u001b[0;34m(\u001b[0m\u001b[0mX\u001b[0m\u001b[0;34m,\u001b[0m\u001b[0mclusters\u001b[0m\u001b[0;34m,\u001b[0m\u001b[0mk\u001b[0m\u001b[0;34m)\u001b[0m\u001b[0;34m\u001b[0m\u001b[0;34m\u001b[0m\u001b[0m\n",
      "\u001b[0;32m<ipython-input-178-620b036898dc>\u001b[0m in \u001b[0;36mAssignPoint\u001b[0;34m(X, clusters, k)\u001b[0m\n\u001b[1;32m     19\u001b[0m         \u001b[0mdist\u001b[0m\u001b[0;34m=\u001b[0m\u001b[0;34m[\u001b[0m\u001b[0;34m]\u001b[0m\u001b[0;34m\u001b[0m\u001b[0;34m\u001b[0m\u001b[0m\n\u001b[1;32m     20\u001b[0m         \u001b[0;32mfor\u001b[0m \u001b[0mkx\u001b[0m \u001b[0;32min\u001b[0m \u001b[0mrange\u001b[0m\u001b[0;34m(\u001b[0m\u001b[0mk\u001b[0m\u001b[0;34m)\u001b[0m\u001b[0;34m:\u001b[0m\u001b[0;34m\u001b[0m\u001b[0;34m\u001b[0m\u001b[0m\n\u001b[0;32m---> 21\u001b[0;31m             \u001b[0mcen\u001b[0m\u001b[0;34m=\u001b[0m\u001b[0mclusters\u001b[0m\u001b[0;34m[\u001b[0m\u001b[0mkx\u001b[0m\u001b[0;34m]\u001b[0m\u001b[0;34m[\u001b[0m\u001b[0;34m\"center\"\u001b[0m\u001b[0;34m]\u001b[0m\u001b[0;34m\u001b[0m\u001b[0;34m\u001b[0m\u001b[0m\n\u001b[0m\u001b[1;32m     22\u001b[0m             \u001b[0md\u001b[0m\u001b[0;34m=\u001b[0m\u001b[0mdistance\u001b[0m\u001b[0;34m(\u001b[0m\u001b[0mcurr_point\u001b[0m\u001b[0;34m,\u001b[0m\u001b[0mclusters\u001b[0m\u001b[0;34m[\u001b[0m\u001b[0mkx\u001b[0m\u001b[0;34m]\u001b[0m\u001b[0;34m[\u001b[0m\u001b[0;34m\"center\"\u001b[0m\u001b[0;34m]\u001b[0m\u001b[0;34m)\u001b[0m\u001b[0;34m\u001b[0m\u001b[0;34m\u001b[0m\u001b[0m\n\u001b[1;32m     23\u001b[0m             \u001b[0mdist\u001b[0m\u001b[0;34m.\u001b[0m\u001b[0mappend\u001b[0m\u001b[0;34m(\u001b[0m\u001b[0md\u001b[0m\u001b[0;34m)\u001b[0m\u001b[0;34m\u001b[0m\u001b[0;34m\u001b[0m\u001b[0m\n",
      "\u001b[0;31mTypeError\u001b[0m: 'int' object is not subscriptable"
     ]
    }
   ],
   "source": [
    "op=Kmean(X,5)"
   ]
  },
  {
   "cell_type": "code",
   "execution_count": null,
   "metadata": {},
   "outputs": [],
   "source": []
  }
 ],
 "metadata": {
  "kernelspec": {
   "display_name": "Python 3",
   "language": "python",
   "name": "python3"
  },
  "language_info": {
   "codemirror_mode": {
    "name": "ipython",
    "version": 3
   },
   "file_extension": ".py",
   "mimetype": "text/x-python",
   "name": "python",
   "nbconvert_exporter": "python",
   "pygments_lexer": "ipython3",
   "version": "3.6.7"
  }
 },
 "nbformat": 4,
 "nbformat_minor": 2
}
